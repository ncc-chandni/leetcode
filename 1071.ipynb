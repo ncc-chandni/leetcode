{
  "nbformat": 4,
  "nbformat_minor": 0,
  "metadata": {
    "colab": {
      "provenance": [],
      "authorship_tag": "ABX9TyPUmo5qnhiGgytOvw6ezkr1",
      "include_colab_link": true
    },
    "kernelspec": {
      "name": "python3",
      "display_name": "Python 3"
    },
    "language_info": {
      "name": "python"
    }
  },
  "cells": [
    {
      "cell_type": "markdown",
      "metadata": {
        "id": "view-in-github",
        "colab_type": "text"
      },
      "source": [
        "<a href=\"https://colab.research.google.com/github/ncc-chandni/leetcode/blob/main/1071.ipynb\" target=\"_parent\"><img src=\"https://colab.research.google.com/assets/colab-badge.svg\" alt=\"Open In Colab\"/></a>"
      ]
    },
    {
      "cell_type": "markdown",
      "source": [
        "For two strings s and t, we say \"t divides s\" if and only if s = t + ... + t (i.e., t is concatenated with itself one or more times).\n",
        "\n",
        "Given two strings str1 and str2, return the largest string x such that x divides both str1 and str2.\n",
        "\n",
        "\n",
        "\n",
        "Example 1:\n",
        "\n",
        "Input: str1 = \"ABCABC\", str2 = \"ABC\"\n",
        "Output: \"ABC\"\n",
        "Example 2:\n",
        "\n",
        "Input: str1 = \"ABABAB\", str2 = \"ABAB\"\n",
        "Output: \"AB\"\n",
        "Example 3:\n",
        "\n",
        "Input: str1 = \"LEET\", str2 = \"CODE\"\n",
        "Output: \"\"\n",
        "\n",
        "\n",
        "Constraints:\n",
        "\n",
        "1 <= str1.length, str2.length <= 1000\n",
        "str1 and str2 consist of English uppercase letters."
      ],
      "metadata": {
        "id": "j1Ve6dqa-Py5"
      }
    },
    {
      "cell_type": "code",
      "source": [
        "class Solution:\n",
        "    def gcdOfStrings(self, str1: str, str2: str) -> str:\n",
        "        if str1 + str2 != str2 + str1:\n",
        "            return ''\n",
        "        n = gcd(len(str1), len(str2))\n",
        "        return str1[:n]"
      ],
      "metadata": {
        "id": "wqnTawOI-VcO"
      },
      "execution_count": null,
      "outputs": []
    },
    {
      "cell_type": "code",
      "source": [],
      "metadata": {
        "id": "TcEIii8voDcf"
      },
      "execution_count": null,
      "outputs": []
    }
  ]
}