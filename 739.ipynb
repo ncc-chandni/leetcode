{
  "nbformat": 4,
  "nbformat_minor": 0,
  "metadata": {
    "colab": {
      "provenance": [],
      "authorship_tag": "ABX9TyNOen3xDPesHkyGvbQ1Gunh",
      "include_colab_link": true
    },
    "kernelspec": {
      "name": "python3",
      "display_name": "Python 3"
    },
    "language_info": {
      "name": "python"
    }
  },
  "cells": [
    {
      "cell_type": "markdown",
      "metadata": {
        "id": "view-in-github",
        "colab_type": "text"
      },
      "source": [
        "<a href=\"https://colab.research.google.com/github/ncc-chandni/leetcode/blob/main/739.ipynb\" target=\"_parent\"><img src=\"https://colab.research.google.com/assets/colab-badge.svg\" alt=\"Open In Colab\"/></a>"
      ]
    },
    {
      "cell_type": "markdown",
      "source": [
        "##Daily Temperatures\n",
        "\n",
        "Given an array of integers temperatures represents the daily temperatures, return an array answer such that answer[i] is the number of days you have to wait after the ith day to get a warmer temperature. If there is no future day for which this is possible, keep answer[i] == 0 instead.\n",
        "\n",
        "\n",
        "\n",
        "Example 1:\n",
        "\n",
        "Input: temperatures = [73,74,75,71,69,72,76,73]\n",
        "Output: [1,1,4,2,1,1,0,0]\n",
        "Example 2:\n",
        "\n",
        "Input: temperatures = [30,40,50,60]\n",
        "Output: [1,1,1,0]\n",
        "Example 3:\n",
        "\n",
        "Input: temperatures = [30,60,90]\n",
        "Output: [1,1,0]\n",
        "\n",
        "\n",
        "Constraints:\n",
        "\n",
        "1 <= temperatures.length <= 105\n",
        "30 <= temperatures[i] <= 100\n"
      ],
      "metadata": {
        "id": "EC2TKL0xSnur"
      }
    },
    {
      "cell_type": "code",
      "source": [
        "def dailyTemperatures(self, temperature : list[int]) -> list[int]:\n",
        "  stack = []\n",
        "  temps = [0] * len(temperatures)\n",
        "  for i in range(len(temperatures)):\n",
        "    temp = temperatures[i]\n",
        "    while len(stack) > 0 and temp > temperatures[stack[-1]]:\n",
        "      idx = stack.pop()\n",
        "      temps[idx] = i - idx\n",
        "    stack.append(i)\n",
        "  return temps"
      ],
      "metadata": {
        "id": "d9rua9cHRz-l"
      },
      "execution_count": null,
      "outputs": []
    }
  ]
}