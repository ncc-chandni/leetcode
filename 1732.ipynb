{
  "nbformat": 4,
  "nbformat_minor": 0,
  "metadata": {
    "colab": {
      "provenance": [],
      "authorship_tag": "ABX9TyMZUjhXPj3Je417iMaHW9IL",
      "include_colab_link": true
    },
    "kernelspec": {
      "name": "python3",
      "display_name": "Python 3"
    },
    "language_info": {
      "name": "python"
    }
  },
  "cells": [
    {
      "cell_type": "markdown",
      "metadata": {
        "id": "view-in-github",
        "colab_type": "text"
      },
      "source": [
        "<a href=\"https://colab.research.google.com/github/ncc-chandni/leetcode/blob/main/1732.ipynb\" target=\"_parent\"><img src=\"https://colab.research.google.com/assets/colab-badge.svg\" alt=\"Open In Colab\"/></a>"
      ]
    },
    {
      "cell_type": "markdown",
      "source": [
        "## Find the Highest Altitude\n",
        "\n",
        "There is a biker going on a road trip. The road trip consists of n + 1 points at different altitudes. The biker starts his trip on point 0 with altitude equal 0.\n",
        "\n",
        "You are given an integer array gain of length n where gain[i] is the net gain in altitude between points i​​​​​​ and i + 1 for all (0 <= i < n). Return the highest altitude of a point.\n",
        "\n",
        "\n",
        "\n",
        "Example 1:\n",
        "\n",
        "Input: gain = [-5,1,5,0,-7]\n",
        "Output: 1\n",
        "Explanation: The altitudes are [0,-5,-4,1,1,-6]. The highest is 1.\n",
        "Example 2:\n",
        "\n",
        "Input: gain = [-4,-3,-2,-1,4,3,2]\n",
        "Output: 0\n",
        "Explanation: The altitudes are [0,-4,-7,-9,-10,-6,-3,-1]. The highest is 0.\n",
        "\n",
        "\n",
        "Constraints:\n",
        "\n",
        "n == gain.length\n",
        "1 <= n <= 100\n",
        "-100 <= gain[i] <= 100\n"
      ],
      "metadata": {
        "id": "y0CzjeRoJNyi"
      }
    },
    {
      "cell_type": "code",
      "execution_count": null,
      "metadata": {
        "id": "1XphoF34G7f_"
      },
      "outputs": [],
      "source": [
        "class Solution:\n",
        "    def largestAltitude(self, gain: List[int]) -> int:\n",
        "        current_altitude = 0\n",
        "        highest_altitude = current_altitude\n",
        "\n",
        "        for altitude in gain:\n",
        "            current_altitude += altitude\n",
        "            highest_altitude = max(highest_altitude, current_altitude)\n",
        "\n",
        "        return highest_altitude"
      ]
    }
  ]
}