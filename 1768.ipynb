{
  "nbformat": 4,
  "nbformat_minor": 0,
  "metadata": {
    "colab": {
      "provenance": [],
      "authorship_tag": "ABX9TyNPYJr1fyPYngdtF26BpGnL",
      "include_colab_link": true
    },
    "kernelspec": {
      "name": "python3",
      "display_name": "Python 3"
    },
    "language_info": {
      "name": "python"
    }
  },
  "cells": [
    {
      "cell_type": "markdown",
      "metadata": {
        "id": "view-in-github",
        "colab_type": "text"
      },
      "source": [
        "<a href=\"https://colab.research.google.com/github/ncc-chandni/leetcode/blob/main/1768.ipynb\" target=\"_parent\"><img src=\"https://colab.research.google.com/assets/colab-badge.svg\" alt=\"Open In Colab\"/></a>"
      ]
    },
    {
      "cell_type": "markdown",
      "source": [
        "You are given two strings word1 and word2. Merge the strings by adding letters in alternating order, starting with word1. If a string is longer than the other, append the additional letters onto the end of the merged string.\n",
        "\n",
        "Return the merged string.\n",
        "\n",
        "\n",
        "\n",
        "Example 1:\n",
        "\n",
        "Input: word1 = \"abc\", word2 = \"pqr\"\n",
        "Output: \"apbqcr\"\n",
        "Explanation: The merged string will be merged as so:\n",
        "word1:  a   b   c\n",
        "word2:    p   q   r\n",
        "merged: a p b q c r\n",
        "Example 2:\n",
        "\n",
        "Input: word1 = \"ab\", word2 = \"pqrs\"\n",
        "Output: \"apbqrs\"\n",
        "Explanation: Notice that as word2 is longer, \"rs\" is appended to the end.\n",
        "word1:  a   b\n",
        "word2:    p   q   r   s\n",
        "merged: a p b q   r   s\n",
        "Example 3:\n",
        "\n",
        "Input: word1 = \"abcd\", word2 = \"pq\"\n",
        "Output: \"apbqcd\"\n",
        "Explanation: Notice that as word1 is longer, \"cd\" is appended to the end.\n",
        "word1:  a   b   c   d\n",
        "word2:    p   q\n",
        "merged: a p b q c   d\n",
        "\n",
        "\n",
        "Constraints:\n",
        "\n",
        "1 <= word1.length, word2.length <= 100\n",
        "word1 and word2 consist of lowercase English letters."
      ],
      "metadata": {
        "id": "yOaosOhN92qN"
      }
    },
    {
      "cell_type": "code",
      "execution_count": null,
      "metadata": {
        "colab": {
          "base_uri": "https://localhost:8080/"
        },
        "id": "8QwgYZEH9sUJ",
        "outputId": "5c920a66-fb84-4809-f3f9-23d83f763bbd"
      },
      "outputs": [
        {
          "output_type": "stream",
          "name": "stdout",
          "text": [
            "<bound method Solution.mergeAlternately of <__main__.Solution object at 0x7f64b671ba30>>\n"
          ]
        }
      ],
      "source": [
        "class Solution:\n",
        "    def mergeAlternately(self, w1: str, w2: str) -> str:\n",
        "        w3 = []\n",
        "        if len(w1)<len(w2):\n",
        "            for i in range(len(w1)):\n",
        "                w3.append(w1[i]+w2[i] )\n",
        "            w3.append(w2[len(w1):])\n",
        "        else:\n",
        "            for i in range(len(w2)):\n",
        "                w3.append(w1[i]+w2[i])\n",
        "            w3.append(w1[len(w2):])\n",
        "        return \"\".join(w3)\n",
        "\n",
        "\n",
        "ans = Solution()\n",
        "print(ans.mergeAlternately)"
      ]
    },
    {
      "cell_type": "code",
      "source": [],
      "metadata": {
        "id": "1Cuv9Vbr9_Me"
      },
      "execution_count": null,
      "outputs": []
    }
  ]
}