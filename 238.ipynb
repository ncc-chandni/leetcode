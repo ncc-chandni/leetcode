{
  "nbformat": 4,
  "nbformat_minor": 0,
  "metadata": {
    "colab": {
      "provenance": [],
      "authorship_tag": "ABX9TyM2H6V3SGWL5rdhJOVmu0Ep",
      "include_colab_link": true
    },
    "kernelspec": {
      "name": "python3",
      "display_name": "Python 3"
    },
    "language_info": {
      "name": "python"
    }
  },
  "cells": [
    {
      "cell_type": "markdown",
      "metadata": {
        "id": "view-in-github",
        "colab_type": "text"
      },
      "source": [
        "<a href=\"https://colab.research.google.com/github/ncc-chandni/leetcode/blob/main/238.ipynb\" target=\"_parent\"><img src=\"https://colab.research.google.com/assets/colab-badge.svg\" alt=\"Open In Colab\"/></a>"
      ]
    },
    {
      "cell_type": "markdown",
      "source": [
        "#Move Zeroes\n",
        "\n",
        "Given an integer array nums, move all 0's to the end of it while maintaining the relative order of the non-zero elements.\n",
        "\n",
        "Note that you must do this in-place without making a copy of the array.\n",
        "\n",
        "\n",
        "\n",
        "Example 1:\n",
        "\n",
        "Input: nums = [0,1,0,3,12]\n",
        "Output: [1,3,12,0,0]\n",
        "\n",
        "\n",
        "Example 2:\n",
        "\n",
        "Input: nums = [0]\n",
        "Output: [0]\n"
      ],
      "metadata": {
        "id": "MV8r6hbxjfId"
      }
    },
    {
      "cell_type": "code",
      "source": [
        "nums = [0,1,0,3,12]\n",
        "zr = []\n",
        "ot = []\n",
        "for i in nums:\n",
        "  if i == 0:\n",
        "    zr.append(i)\n",
        "  else:\n",
        "    ot.append(i)\n",
        "\n",
        "print(zr)\n",
        "ot.extend((zr))\n",
        "print(ot)"
      ],
      "metadata": {
        "colab": {
          "base_uri": "https://localhost:8080/"
        },
        "id": "0Ph-lvDEhDnK",
        "outputId": "3a17b3de-fc55-4da9-9729-2b54d418233b"
      },
      "execution_count": null,
      "outputs": [
        {
          "output_type": "stream",
          "name": "stdout",
          "text": [
            "[0, 0]\n",
            "[1, 3, 12, 0, 0]\n"
          ]
        }
      ]
    },
    {
      "cell_type": "code",
      "source": [
        "class Solution:\n",
        "    def moveZeroes(self, nums: list[int]) -> None:\n",
        "        zr = []\n",
        "        ot = []\n",
        "        for i in nums:\n",
        "            if i == 0:\n",
        "                zr.append(i)\n",
        "            else:\n",
        "                ot.append(i)\n",
        "        output = ot + zr\n",
        "        return output\n"
      ],
      "metadata": {
        "id": "b5bcJY3pk-io"
      },
      "execution_count": null,
      "outputs": []
    },
    {
      "cell_type": "code",
      "source": [
        "class Solution:\n",
        "    def moveZeroes(self, nums: list[int]) -> None:\n",
        "        \"\"\"\n",
        "        Do not return anything, modify nums in-place instead.\n",
        "        \"\"\"\n",
        "        i = -1\n",
        "        for j, x in enumerate(nums):\n",
        "            if x:\n",
        "                i+=1\n",
        "                nums[i], nums[j] = nums[j], nums[i]"
      ],
      "metadata": {
        "id": "nCEiWFp5mE-R"
      },
      "execution_count": null,
      "outputs": []
    },
    {
      "cell_type": "code",
      "source": [],
      "metadata": {
        "id": "0wJOA0EomOjr"
      },
      "execution_count": null,
      "outputs": []
    }
  ]
}