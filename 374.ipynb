{
  "nbformat": 4,
  "nbformat_minor": 0,
  "metadata": {
    "colab": {
      "provenance": [],
      "authorship_tag": "ABX9TyOVVDSXBMGoYkv0d2T91elU",
      "include_colab_link": true
    },
    "kernelspec": {
      "name": "python3",
      "display_name": "Python 3"
    },
    "language_info": {
      "name": "python"
    }
  },
  "cells": [
    {
      "cell_type": "markdown",
      "metadata": {
        "id": "view-in-github",
        "colab_type": "text"
      },
      "source": [
        "<a href=\"https://colab.research.google.com/github/ncc-chandni/leetcode/blob/main/374.ipynb\" target=\"_parent\"><img src=\"https://colab.research.google.com/assets/colab-badge.svg\" alt=\"Open In Colab\"/></a>"
      ]
    },
    {
      "cell_type": "markdown",
      "source": [
        "## Guess Number Higher or Lower\n",
        "\n",
        "We are playing the Guess Game. The game is as follows:\n",
        "\n",
        "I pick a number from 1 to n. You have to guess which number I picked.\n",
        "\n",
        "Every time you guess wrong, I will tell you whether the number I picked is higher or lower than your guess.\n",
        "\n",
        "You call a pre-defined API int guess(int num), which returns three possible results:\n",
        "\n",
        "-1: Your guess is higher than the number I picked (i.e. num > pick).\n",
        "\n",
        "1: Your guess is lower than the number I picked (i.e. num < pick).\n",
        "\n",
        "0: your guess is equal to the number I picked (i.e. num == pick).\n",
        "Return the number that I picked.\n",
        "\n",
        "\n",
        "\n",
        "Example 1:\n",
        "\n",
        "Input: n = 10, pick = 6\n",
        "Output: 6\n",
        "\n",
        "Example 2:\n",
        "\n",
        "Input: n = 1, pick = 1\n",
        "Output: 1\n",
        "\n",
        "Example 3:\n",
        "\n",
        "Input: n = 2, pick = 1\n",
        "Output: 1\n",
        "\n",
        "\n",
        "Constraints:\n",
        "\n",
        "1 <= n <= 231 - 1\n",
        "1 <= pick <= n\n"
      ],
      "metadata": {
        "id": "pVrC1Xq8dyxb"
      }
    },
    {
      "cell_type": "code",
      "execution_count": 1,
      "metadata": {
        "id": "PKwULhvhbcul"
      },
      "outputs": [],
      "source": [
        "class Solution:\n",
        "    def guessNumber(self, n: int) -> int:\n",
        "        lower = 1\n",
        "        higher = n\n",
        "        while lower <= higher:\n",
        "            mid = (lower + higher)//2\n",
        "            num = guess(mid)\n",
        "\n",
        "            if num == 0:\n",
        "                return mid\n",
        "            elif num == -1:\n",
        "                higher = mid-1\n",
        "            else:\n",
        "                lower = mid + 1\n",
        "\n",
        ""
      ]
    },
    {
      "cell_type": "code",
      "source": [],
      "metadata": {
        "id": "Lo2hcUl7EjJJ"
      },
      "execution_count": null,
      "outputs": []
    }
  ]
}