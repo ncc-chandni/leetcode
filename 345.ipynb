{
  "nbformat": 4,
  "nbformat_minor": 0,
  "metadata": {
    "colab": {
      "provenance": [],
      "authorship_tag": "ABX9TyMpcY/XBaE4xabEhdZRdz1h",
      "include_colab_link": true
    },
    "kernelspec": {
      "name": "python3",
      "display_name": "Python 3"
    },
    "language_info": {
      "name": "python"
    }
  },
  "cells": [
    {
      "cell_type": "markdown",
      "metadata": {
        "id": "view-in-github",
        "colab_type": "text"
      },
      "source": [
        "<a href=\"https://colab.research.google.com/github/ncc-chandni/leetcode/blob/main/345.ipynb\" target=\"_parent\"><img src=\"https://colab.research.google.com/assets/colab-badge.svg\" alt=\"Open In Colab\"/></a>"
      ]
    },
    {
      "cell_type": "markdown",
      "source": [
        "Reverse Vowels of a String\n",
        "\n",
        "Given a string s, reverse only all the vowels in the string and return it.\n",
        "\n",
        "The vowels are 'a', 'e', 'i', 'o', and 'u', and they can appear in both lower and upper cases, more than once.\n",
        "\n",
        "\n",
        "\n",
        "Example 1:\n",
        "\n",
        "Input: s = \"hello\"\n",
        "Output: \"holle\"\n",
        "Example 2:\n",
        "\n",
        "Input: s = \"leetcode\"\n",
        "Output: \"leotcede\"\n",
        "\n",
        "\n",
        "Constraints:\n",
        "\n",
        "1 <= s.length <= 3 * 105\n",
        "s consist of printable ASCII characters"
      ],
      "metadata": {
        "id": "y-3xWiQFzKyA"
      }
    },
    {
      "cell_type": "code",
      "source": [
        "class Solution:\n",
        "    def reverseVowels(self, s) -> str:\n",
        "        vowel = \"aeiouAEIOU\"\n",
        "        i = 0\n",
        "        j = len(s) - 1\n",
        "        st = list(s)\n",
        "        while i < j:\n",
        "            while i < j and st[i] not in vowel:\n",
        "                i += 1\n",
        "            while i<j and st[j] not in vowel:\n",
        "                j -= 1\n",
        "            if i<j:\n",
        "                st[i], st[j] = st[j], st[i]\n",
        "                i += 1\n",
        "                j-= 1\n",
        "        return \"\".join(st)"
      ],
      "metadata": {
        "id": "jpelAs5nzMFq"
      },
      "execution_count": null,
      "outputs": []
    },
    {
      "cell_type": "code",
      "source": [],
      "metadata": {
        "id": "sO31BDefzXyv"
      },
      "execution_count": null,
      "outputs": []
    }
  ]
}